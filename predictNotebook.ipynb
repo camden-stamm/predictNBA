{
 "cells": [
  {
   "cell_type": "markdown",
   "id": "a69afff4",
   "metadata": {},
   "source": [
    "# Predicting the Winner of NBA Games Using Team Statistics"
   ]
  },
  {
   "cell_type": "code",
   "execution_count": 2,
   "id": "73eadedd",
   "metadata": {},
   "outputs": [],
   "source": [
    "#Imports\n",
    "import numpy as np\n",
    "import pandas as pd\n",
    "from sklearn.linear_model import LogisticRegression\n",
    "from sklearn.model_selection import train_test_split\n",
    "from sklearn.metrics import confusion_matrix\n",
    "from sklearn.tree import DecisionTreeClassifier\n",
    "np.random.seed(42)"
   ]
  },
  {
   "cell_type": "code",
   "execution_count": 5,
   "id": "9c67ae5e",
   "metadata": {},
   "outputs": [
    {
     "data": {
      "text/html": [
       "<div>\n",
       "<style scoped>\n",
       "    .dataframe tbody tr th:only-of-type {\n",
       "        vertical-align: middle;\n",
       "    }\n",
       "\n",
       "    .dataframe tbody tr th {\n",
       "        vertical-align: top;\n",
       "    }\n",
       "\n",
       "    .dataframe thead th {\n",
       "        text-align: right;\n",
       "    }\n",
       "</style>\n",
       "<table border=\"1\" class=\"dataframe\">\n",
       "  <thead>\n",
       "    <tr style=\"text-align: right;\">\n",
       "      <th></th>\n",
       "      <th>GAME_DATE</th>\n",
       "      <th>HOME_TEAM_NAME</th>\n",
       "      <th>VISITOR_TEAM_NAME</th>\n",
       "      <th>SEASON</th>\n",
       "      <th>PTS_home</th>\n",
       "      <th>FG_PCT_home</th>\n",
       "      <th>FT_PCT_home</th>\n",
       "      <th>FG3_PCT_home</th>\n",
       "      <th>AST_home</th>\n",
       "      <th>REB_home</th>\n",
       "      <th>PTS_away</th>\n",
       "      <th>FG_PCT_away</th>\n",
       "      <th>FT_PCT_away</th>\n",
       "      <th>FG3_PCT_away</th>\n",
       "      <th>AST_away</th>\n",
       "      <th>REB_away</th>\n",
       "      <th>HOME_TEAM_WINS</th>\n",
       "    </tr>\n",
       "  </thead>\n",
       "  <tbody>\n",
       "    <tr>\n",
       "      <th>0</th>\n",
       "      <td>3/12/2022</td>\n",
       "      <td>Miami Heat</td>\n",
       "      <td>Minnesota Timberwolves</td>\n",
       "      <td>2021</td>\n",
       "      <td>104</td>\n",
       "      <td>0.398</td>\n",
       "      <td>0.760</td>\n",
       "      <td>0.333</td>\n",
       "      <td>23</td>\n",
       "      <td>53</td>\n",
       "      <td>113</td>\n",
       "      <td>0.422</td>\n",
       "      <td>0.875</td>\n",
       "      <td>0.357</td>\n",
       "      <td>21</td>\n",
       "      <td>46</td>\n",
       "      <td>0</td>\n",
       "    </tr>\n",
       "    <tr>\n",
       "      <th>1</th>\n",
       "      <td>3/12/2022</td>\n",
       "      <td>Chicago Bulls</td>\n",
       "      <td>Cleveland Cavaliers</td>\n",
       "      <td>2021</td>\n",
       "      <td>101</td>\n",
       "      <td>0.443</td>\n",
       "      <td>0.933</td>\n",
       "      <td>0.429</td>\n",
       "      <td>20</td>\n",
       "      <td>46</td>\n",
       "      <td>91</td>\n",
       "      <td>0.419</td>\n",
       "      <td>0.824</td>\n",
       "      <td>0.208</td>\n",
       "      <td>19</td>\n",
       "      <td>40</td>\n",
       "      <td>1</td>\n",
       "    </tr>\n",
       "    <tr>\n",
       "      <th>2</th>\n",
       "      <td>3/12/2022</td>\n",
       "      <td>San Antonio Spurs</td>\n",
       "      <td>Indiana Pacers</td>\n",
       "      <td>2021</td>\n",
       "      <td>108</td>\n",
       "      <td>0.412</td>\n",
       "      <td>0.813</td>\n",
       "      <td>0.324</td>\n",
       "      <td>28</td>\n",
       "      <td>52</td>\n",
       "      <td>119</td>\n",
       "      <td>0.489</td>\n",
       "      <td>1.000</td>\n",
       "      <td>0.389</td>\n",
       "      <td>23</td>\n",
       "      <td>47</td>\n",
       "      <td>0</td>\n",
       "    </tr>\n",
       "    <tr>\n",
       "      <th>3</th>\n",
       "      <td>3/12/2022</td>\n",
       "      <td>Golden State Warriors</td>\n",
       "      <td>Milwaukee Bucks</td>\n",
       "      <td>2021</td>\n",
       "      <td>122</td>\n",
       "      <td>0.484</td>\n",
       "      <td>0.933</td>\n",
       "      <td>0.400</td>\n",
       "      <td>33</td>\n",
       "      <td>55</td>\n",
       "      <td>109</td>\n",
       "      <td>0.413</td>\n",
       "      <td>0.696</td>\n",
       "      <td>0.386</td>\n",
       "      <td>27</td>\n",
       "      <td>39</td>\n",
       "      <td>1</td>\n",
       "    </tr>\n",
       "    <tr>\n",
       "      <th>4</th>\n",
       "      <td>3/12/2022</td>\n",
       "      <td>Denver Nuggets</td>\n",
       "      <td>Toronto Raptors</td>\n",
       "      <td>2021</td>\n",
       "      <td>115</td>\n",
       "      <td>0.551</td>\n",
       "      <td>0.750</td>\n",
       "      <td>0.407</td>\n",
       "      <td>32</td>\n",
       "      <td>39</td>\n",
       "      <td>127</td>\n",
       "      <td>0.471</td>\n",
       "      <td>0.760</td>\n",
       "      <td>0.387</td>\n",
       "      <td>28</td>\n",
       "      <td>50</td>\n",
       "      <td>0</td>\n",
       "    </tr>\n",
       "    <tr>\n",
       "      <th>...</th>\n",
       "      <td>...</td>\n",
       "      <td>...</td>\n",
       "      <td>...</td>\n",
       "      <td>...</td>\n",
       "      <td>...</td>\n",
       "      <td>...</td>\n",
       "      <td>...</td>\n",
       "      <td>...</td>\n",
       "      <td>...</td>\n",
       "      <td>...</td>\n",
       "      <td>...</td>\n",
       "      <td>...</td>\n",
       "      <td>...</td>\n",
       "      <td>...</td>\n",
       "      <td>...</td>\n",
       "      <td>...</td>\n",
       "      <td>...</td>\n",
       "    </tr>\n",
       "    <tr>\n",
       "      <th>24406</th>\n",
       "      <td>10/22/2004</td>\n",
       "      <td>Detroit Pistons</td>\n",
       "      <td>Washington Wizards</td>\n",
       "      <td>2004</td>\n",
       "      <td>100</td>\n",
       "      <td>0.549</td>\n",
       "      <td>0.810</td>\n",
       "      <td>0.500</td>\n",
       "      <td>24</td>\n",
       "      <td>34</td>\n",
       "      <td>82</td>\n",
       "      <td>0.411</td>\n",
       "      <td>0.724</td>\n",
       "      <td>0.071</td>\n",
       "      <td>15</td>\n",
       "      <td>33</td>\n",
       "      <td>1</td>\n",
       "    </tr>\n",
       "    <tr>\n",
       "      <th>24407</th>\n",
       "      <td>10/22/2004</td>\n",
       "      <td>Boston Celtics</td>\n",
       "      <td>Brooklyn Nets</td>\n",
       "      <td>2004</td>\n",
       "      <td>83</td>\n",
       "      <td>0.431</td>\n",
       "      <td>0.706</td>\n",
       "      <td>0.273</td>\n",
       "      <td>14</td>\n",
       "      <td>34</td>\n",
       "      <td>96</td>\n",
       "      <td>0.449</td>\n",
       "      <td>0.885</td>\n",
       "      <td>0.231</td>\n",
       "      <td>21</td>\n",
       "      <td>35</td>\n",
       "      <td>0</td>\n",
       "    </tr>\n",
       "    <tr>\n",
       "      <th>24408</th>\n",
       "      <td>10/22/2004</td>\n",
       "      <td>Charlotte Hornets</td>\n",
       "      <td>Portland Trailblazers</td>\n",
       "      <td>2004</td>\n",
       "      <td>69</td>\n",
       "      <td>0.377</td>\n",
       "      <td>0.571</td>\n",
       "      <td>0.300</td>\n",
       "      <td>24</td>\n",
       "      <td>36</td>\n",
       "      <td>63</td>\n",
       "      <td>0.311</td>\n",
       "      <td>0.741</td>\n",
       "      <td>0.217</td>\n",
       "      <td>9</td>\n",
       "      <td>44</td>\n",
       "      <td>1</td>\n",
       "    </tr>\n",
       "    <tr>\n",
       "      <th>24409</th>\n",
       "      <td>10/22/2004</td>\n",
       "      <td>Utah Jazz</td>\n",
       "      <td>Sacramento Kings</td>\n",
       "      <td>2004</td>\n",
       "      <td>103</td>\n",
       "      <td>0.507</td>\n",
       "      <td>0.641</td>\n",
       "      <td>0.667</td>\n",
       "      <td>25</td>\n",
       "      <td>43</td>\n",
       "      <td>88</td>\n",
       "      <td>0.362</td>\n",
       "      <td>0.814</td>\n",
       "      <td>0.250</td>\n",
       "      <td>16</td>\n",
       "      <td>33</td>\n",
       "      <td>1</td>\n",
       "    </tr>\n",
       "    <tr>\n",
       "      <th>24410</th>\n",
       "      <td>10/22/2004</td>\n",
       "      <td>Minnesota Timberwolves</td>\n",
       "      <td>New York Knicks</td>\n",
       "      <td>2004</td>\n",
       "      <td>102</td>\n",
       "      <td>0.523</td>\n",
       "      <td>0.643</td>\n",
       "      <td>0.143</td>\n",
       "      <td>32</td>\n",
       "      <td>46</td>\n",
       "      <td>82</td>\n",
       "      <td>0.333</td>\n",
       "      <td>0.778</td>\n",
       "      <td>0.154</td>\n",
       "      <td>21</td>\n",
       "      <td>41</td>\n",
       "      <td>1</td>\n",
       "    </tr>\n",
       "  </tbody>\n",
       "</table>\n",
       "<p>24411 rows × 17 columns</p>\n",
       "</div>"
      ],
      "text/plain": [
       "        GAME_DATE          HOME_TEAM_NAME       VISITOR_TEAM_NAME  SEASON  \\\n",
       "0       3/12/2022              Miami Heat  Minnesota Timberwolves    2021   \n",
       "1       3/12/2022           Chicago Bulls     Cleveland Cavaliers    2021   \n",
       "2       3/12/2022       San Antonio Spurs          Indiana Pacers    2021   \n",
       "3       3/12/2022   Golden State Warriors         Milwaukee Bucks    2021   \n",
       "4       3/12/2022          Denver Nuggets         Toronto Raptors    2021   \n",
       "...           ...                     ...                     ...     ...   \n",
       "24406  10/22/2004         Detroit Pistons      Washington Wizards    2004   \n",
       "24407  10/22/2004          Boston Celtics           Brooklyn Nets    2004   \n",
       "24408  10/22/2004       Charlotte Hornets   Portland Trailblazers    2004   \n",
       "24409  10/22/2004               Utah Jazz        Sacramento Kings    2004   \n",
       "24410  10/22/2004  Minnesota Timberwolves         New York Knicks    2004   \n",
       "\n",
       "       PTS_home  FG_PCT_home  FT_PCT_home  FG3_PCT_home  AST_home  REB_home  \\\n",
       "0           104        0.398        0.760         0.333        23        53   \n",
       "1           101        0.443        0.933         0.429        20        46   \n",
       "2           108        0.412        0.813         0.324        28        52   \n",
       "3           122        0.484        0.933         0.400        33        55   \n",
       "4           115        0.551        0.750         0.407        32        39   \n",
       "...         ...          ...          ...           ...       ...       ...   \n",
       "24406       100        0.549        0.810         0.500        24        34   \n",
       "24407        83        0.431        0.706         0.273        14        34   \n",
       "24408        69        0.377        0.571         0.300        24        36   \n",
       "24409       103        0.507        0.641         0.667        25        43   \n",
       "24410       102        0.523        0.643         0.143        32        46   \n",
       "\n",
       "       PTS_away  FG_PCT_away  FT_PCT_away  FG3_PCT_away  AST_away  REB_away  \\\n",
       "0           113        0.422        0.875         0.357        21        46   \n",
       "1            91        0.419        0.824         0.208        19        40   \n",
       "2           119        0.489        1.000         0.389        23        47   \n",
       "3           109        0.413        0.696         0.386        27        39   \n",
       "4           127        0.471        0.760         0.387        28        50   \n",
       "...         ...          ...          ...           ...       ...       ...   \n",
       "24406        82        0.411        0.724         0.071        15        33   \n",
       "24407        96        0.449        0.885         0.231        21        35   \n",
       "24408        63        0.311        0.741         0.217         9        44   \n",
       "24409        88        0.362        0.814         0.250        16        33   \n",
       "24410        82        0.333        0.778         0.154        21        41   \n",
       "\n",
       "       HOME_TEAM_WINS  \n",
       "0                   0  \n",
       "1                   1  \n",
       "2                   0  \n",
       "3                   1  \n",
       "4                   0  \n",
       "...               ...  \n",
       "24406               1  \n",
       "24407               0  \n",
       "24408               1  \n",
       "24409               1  \n",
       "24410               1  \n",
       "\n",
       "[24411 rows x 17 columns]"
      ]
     },
     "execution_count": 5,
     "metadata": {},
     "output_type": "execute_result"
    }
   ],
   "source": [
    "#Reading dataset from csv\n",
    "games = pd.read_csv('games.csv')\n",
    "games"
   ]
  },
  {
   "cell_type": "markdown",
   "id": "4fd310c6",
   "metadata": {},
   "source": [
    "X will need to contain only the numerical statistics, not including points scored, because points always determine the winner.\n",
    "\n",
    "y is 1 if the home team wins, 0 if the away team wins."
   ]
  },
  {
   "cell_type": "code",
   "execution_count": 3,
   "id": "58d0bd27",
   "metadata": {},
   "outputs": [
    {
     "data": {
      "text/html": [
       "<div>\n",
       "<style scoped>\n",
       "    .dataframe tbody tr th:only-of-type {\n",
       "        vertical-align: middle;\n",
       "    }\n",
       "\n",
       "    .dataframe tbody tr th {\n",
       "        vertical-align: top;\n",
       "    }\n",
       "\n",
       "    .dataframe thead th {\n",
       "        text-align: right;\n",
       "    }\n",
       "</style>\n",
       "<table border=\"1\" class=\"dataframe\">\n",
       "  <thead>\n",
       "    <tr style=\"text-align: right;\">\n",
       "      <th></th>\n",
       "      <th>FG_PCT_home</th>\n",
       "      <th>FT_PCT_home</th>\n",
       "      <th>FG3_PCT_home</th>\n",
       "      <th>AST_home</th>\n",
       "      <th>REB_home</th>\n",
       "      <th>FG_PCT_away</th>\n",
       "      <th>FT_PCT_away</th>\n",
       "      <th>FG3_PCT_away</th>\n",
       "      <th>AST_away</th>\n",
       "      <th>REB_away</th>\n",
       "    </tr>\n",
       "  </thead>\n",
       "  <tbody>\n",
       "    <tr>\n",
       "      <th>0</th>\n",
       "      <td>0.398</td>\n",
       "      <td>0.760</td>\n",
       "      <td>0.333</td>\n",
       "      <td>23</td>\n",
       "      <td>53</td>\n",
       "      <td>0.422</td>\n",
       "      <td>0.875</td>\n",
       "      <td>0.357</td>\n",
       "      <td>21</td>\n",
       "      <td>46</td>\n",
       "    </tr>\n",
       "    <tr>\n",
       "      <th>1</th>\n",
       "      <td>0.443</td>\n",
       "      <td>0.933</td>\n",
       "      <td>0.429</td>\n",
       "      <td>20</td>\n",
       "      <td>46</td>\n",
       "      <td>0.419</td>\n",
       "      <td>0.824</td>\n",
       "      <td>0.208</td>\n",
       "      <td>19</td>\n",
       "      <td>40</td>\n",
       "    </tr>\n",
       "    <tr>\n",
       "      <th>2</th>\n",
       "      <td>0.412</td>\n",
       "      <td>0.813</td>\n",
       "      <td>0.324</td>\n",
       "      <td>28</td>\n",
       "      <td>52</td>\n",
       "      <td>0.489</td>\n",
       "      <td>1.000</td>\n",
       "      <td>0.389</td>\n",
       "      <td>23</td>\n",
       "      <td>47</td>\n",
       "    </tr>\n",
       "    <tr>\n",
       "      <th>3</th>\n",
       "      <td>0.484</td>\n",
       "      <td>0.933</td>\n",
       "      <td>0.400</td>\n",
       "      <td>33</td>\n",
       "      <td>55</td>\n",
       "      <td>0.413</td>\n",
       "      <td>0.696</td>\n",
       "      <td>0.386</td>\n",
       "      <td>27</td>\n",
       "      <td>39</td>\n",
       "    </tr>\n",
       "    <tr>\n",
       "      <th>4</th>\n",
       "      <td>0.551</td>\n",
       "      <td>0.750</td>\n",
       "      <td>0.407</td>\n",
       "      <td>32</td>\n",
       "      <td>39</td>\n",
       "      <td>0.471</td>\n",
       "      <td>0.760</td>\n",
       "      <td>0.387</td>\n",
       "      <td>28</td>\n",
       "      <td>50</td>\n",
       "    </tr>\n",
       "  </tbody>\n",
       "</table>\n",
       "</div>"
      ],
      "text/plain": [
       "   FG_PCT_home  FT_PCT_home  FG3_PCT_home  AST_home  REB_home  FG_PCT_away  \\\n",
       "0        0.398        0.760         0.333        23        53        0.422   \n",
       "1        0.443        0.933         0.429        20        46        0.419   \n",
       "2        0.412        0.813         0.324        28        52        0.489   \n",
       "3        0.484        0.933         0.400        33        55        0.413   \n",
       "4        0.551        0.750         0.407        32        39        0.471   \n",
       "\n",
       "   FT_PCT_away  FG3_PCT_away  AST_away  REB_away  \n",
       "0        0.875         0.357        21        46  \n",
       "1        0.824         0.208        19        40  \n",
       "2        1.000         0.389        23        47  \n",
       "3        0.696         0.386        27        39  \n",
       "4        0.760         0.387        28        50  "
      ]
     },
     "execution_count": 3,
     "metadata": {},
     "output_type": "execute_result"
    }
   ],
   "source": [
    "X = games.iloc[:, [5,6,7,8,9,11,12,13,14,15]]\n",
    "y = games.loc[:, 'HOME_TEAM_WINS']\n",
    "X.head()"
   ]
  },
  {
   "cell_type": "markdown",
   "id": "50435332",
   "metadata": {},
   "source": [
    "# Logistic Regression"
   ]
  },
  {
   "cell_type": "code",
   "execution_count": 4,
   "id": "f1945291",
   "metadata": {},
   "outputs": [
    {
     "name": "stdout",
     "output_type": "stream",
     "text": [
      "[[1539  458]\n",
      " [ 315 2571]]\n"
     ]
    }
   ],
   "source": [
    "X_train, X_test, y_train, y_test = train_test_split(X, y, test_size = 0.2, random_state=42)\n",
    "\n",
    "model = LogisticRegression(solver='lbfgs', max_iter=1000)\n",
    "model.fit(X_train.values, y_train)\n",
    "\n",
    "y_pred = model.predict(X_test.values)\n",
    "\n",
    "cm = confusion_matrix(y_test, y_pred)\n",
    "print(cm)"
   ]
  },
  {
   "cell_type": "code",
   "execution_count": 5,
   "id": "a7cb1fcd",
   "metadata": {},
   "outputs": [
    {
     "name": "stdout",
     "output_type": "stream",
     "text": [
      "Precision:  0.8487949818421922 Recall:  0.8908523908523909 F1Score:  0.869315300084531\n"
     ]
    }
   ],
   "source": [
    "TN = cm[0,0]\n",
    "FP = cm[0,1]\n",
    "FN = cm[1,0]\n",
    "TP = cm[1,1]\n",
    "Precision = TP/(TP+FP)\n",
    "Recall = TP/(TP+FN)\n",
    "F1Score = 2*((Precision*Recall)/(Precision+Recall))\n",
    "print('Precision: ',Precision, 'Recall: ',Recall, 'F1Score: ',F1Score)"
   ]
  },
  {
   "cell_type": "code",
   "execution_count": 6,
   "id": "5a8db711",
   "metadata": {},
   "outputs": [
    {
     "name": "stdout",
     "output_type": "stream",
     "text": [
      "58.805456556470446\n"
     ]
    }
   ],
   "source": [
    "#Home team win percentage\n",
    "home_win_percentage = y.mean() * 100\n",
    "print(home_win_percentage)"
   ]
  },
  {
   "cell_type": "markdown",
   "id": "69b2f7c2",
   "metadata": {},
   "source": [
    "Since the home team wins over 58% of the time, the model should prefer the home team winning when all the values in X are the same, even though home/away win percentage isn't included in the dataset. This is tested below, by predicting the winner if the away and home stats are all equal. Then, we increase the FG% of the away team by 1% (.45 to .46) and the home team is still picked to win. Although, if we raise the away team's FG% to .47, the away team is picked to win. So, we can see that the home team is favored by the model, but only slightly."
   ]
  },
  {
   "cell_type": "code",
   "execution_count": 7,
   "id": "fe6d95ac",
   "metadata": {
    "scrolled": false
   },
   "outputs": [
    {
     "name": "stdout",
     "output_type": "stream",
     "text": [
      "[1]\n",
      "[1]\n",
      "[0]\n"
     ]
    }
   ],
   "source": [
    "same_stats = model.predict([[.45, .78, .27, 30, 40, .45, .78, .27, 30, 40]])\n",
    "print(same_stats)\n",
    "away_one_higher_fg = model.predict([[.45, .78, .27, 30, 40, .46, .78, .27, 30, 40]])\n",
    "print(away_one_higher_fg)\n",
    "away_two_higher_fg = model.predict([[.45, .78, .27, 30, 40, .47, .78, .27, 30, 40]])\n",
    "print(away_two_higher_fg)"
   ]
  },
  {
   "cell_type": "markdown",
   "id": "bb3ca632",
   "metadata": {},
   "source": [
    "Below is sample data from NBA Preseason games that took place in the beginning of October, 2022. These samples are not included in the dataset, as the dataset only includes games as recent as March 12, 2022. We can use the recorded team stats from the 4 games to see if the model correctly predicts the winner. In each case below, the model correctly picked the winner of each game."
   ]
  },
  {
   "cell_type": "code",
   "execution_count": 8,
   "id": "7c9f35a4",
   "metadata": {},
   "outputs": [
    {
     "name": "stdout",
     "output_type": "stream",
     "text": [
      "Expected: 0\n",
      "[0]\n",
      "Expected: 0\n",
      "[0]\n",
      "Expected: 1\n",
      "[1]\n",
      "Expected: 0\n",
      "[0]\n"
     ]
    }
   ],
   "source": [
    "kings_at_lakers = model.predict([[.312,.625,.233,17,49, .408,.632,.231,25,54]])\n",
    "print(\"Expected: 0\")\n",
    "print(kings_at_lakers)\n",
    "\n",
    "sixers_at_nets = model.predict([[.462,.735,.333,25,43, .407,.960,.341,26,56]])\n",
    "print(\"Expected: 0\")\n",
    "print(sixers_at_nets)\n",
    "\n",
    "trailblazers_at_clippers = model.predict([[.383,.758,.395,21,44, .397,.771,.286,18,46]])\n",
    "print(\"Expected: 1\")\n",
    "print(trailblazers_at_clippers)\n",
    "\n",
    "thunder_at_nuggets = model.predict([[.411,.739,.303,20,43, .488,.680,.371,25,52]])\n",
    "print(\"Expected: 0\")\n",
    "print(thunder_at_nuggets)"
   ]
  },
  {
   "cell_type": "markdown",
   "id": "032ab7c4",
   "metadata": {},
   "source": [
    "Below are the corresponding probabilities for the predictions above. The first case is the probability of 0 (away team winning)."
   ]
  },
  {
   "cell_type": "code",
   "execution_count": 9,
   "id": "5086da40",
   "metadata": {},
   "outputs": [
    {
     "name": "stdout",
     "output_type": "stream",
     "text": [
      "[[0.93546874 0.06453126]]\n",
      "[[0.70355317 0.29644683]]\n",
      "[[0.371295 0.628705]]\n",
      "[[0.92316702 0.07683298]]\n"
     ]
    }
   ],
   "source": [
    "print(model.predict_proba([[.312,.625,.233,17,49, .408,.632,.231,25,54]]))\n",
    "print(model.predict_proba([[.462,.735,.333,25,43, .407,.960,.341,26,56]]))\n",
    "print(model.predict_proba([[.383,.758,.395,21,44, .397,.771,.286,18,46]]))\n",
    "print(model.predict_proba([[.411,.739,.303,20,43, .488,.680,.371,25,52]]))"
   ]
  },
  {
   "cell_type": "markdown",
   "id": "7814d63b",
   "metadata": {},
   "source": [
    "# Decision Tree Classifier"
   ]
  },
  {
   "cell_type": "code",
   "execution_count": 16,
   "id": "db4ee53f",
   "metadata": {},
   "outputs": [
    {
     "name": "stdout",
     "output_type": "stream",
     "text": [
      "[[1420  577]\n",
      " [ 404 2482]]\n"
     ]
    }
   ],
   "source": [
    "tree_model = DecisionTreeClassifier(max_depth=7, random_state=42, criterion=\"entropy\")\n",
    "tree_model.fit(X_train.values, y_train)\n",
    "tree_y_pred = tree_model.predict(X_test.values)\n",
    "\n",
    "cm = confusion_matrix(y_test, tree_y_pred)\n",
    "print(cm)"
   ]
  },
  {
   "cell_type": "markdown",
   "id": "d0ddaa6a",
   "metadata": {},
   "source": [
    "Here we run the same predictions as the Logistic Regression model above, along with the probabilities. The second game was incorrectly predicted as a win for the home team, when in reality the away team won."
   ]
  },
  {
   "cell_type": "code",
   "execution_count": 11,
   "id": "b1c0fc33",
   "metadata": {},
   "outputs": [
    {
     "name": "stdout",
     "output_type": "stream",
     "text": [
      "Expected: 0\n",
      "[0]\n",
      "Expected: 0\n",
      "[1]\n",
      "Expected: 1\n",
      "[1]\n",
      "Expected: 0\n",
      "[0]\n"
     ]
    }
   ],
   "source": [
    "kings_at_lakers = tree_model.predict([[.312,.625,.233,17,49, .408,.632,.231,25,54]])\n",
    "print(\"Expected: 0\")\n",
    "print(kings_at_lakers)\n",
    "sixers_at_nets = tree_model.predict([[.462,.735,.333,25,43, .407,.960,.341,26,56]])\n",
    "print(\"Expected: 0\")\n",
    "print(sixers_at_nets)\n",
    "trailblazers_at_clippers = tree_model.predict([[.383,.758,.395,21,44, .397,.771,.286,18,46]])\n",
    "print(\"Expected: 1\")\n",
    "print(trailblazers_at_clippers)\n",
    "thunder_at_nuggets = tree_model.predict([[.411,.739,.303,20,43, .488,.680,.371,25,52]])\n",
    "print(\"Expected: 0\")\n",
    "print(thunder_at_nuggets)"
   ]
  },
  {
   "cell_type": "code",
   "execution_count": 12,
   "id": "c648ab39",
   "metadata": {},
   "outputs": [
    {
     "name": "stdout",
     "output_type": "stream",
     "text": [
      "[[1. 0.]]\n",
      "[[0.24074074 0.75925926]]\n",
      "[[0.34285714 0.65714286]]\n",
      "[[0.9112628 0.0887372]]\n"
     ]
    }
   ],
   "source": [
    "print(tree_model.predict_proba([[.312,.625,.233,17,49, .408,.632,.231,25,54]]))\n",
    "print(tree_model.predict_proba([[.462,.735,.333,25,43, .407,.960,.341,26,56]]))\n",
    "print(tree_model.predict_proba([[.383,.758,.395,21,44, .397,.771,.286,18,46]]))\n",
    "print(tree_model.predict_proba([[.411,.739,.303,20,43, .488,.680,.371,25,52]]))"
   ]
  },
  {
   "cell_type": "code",
   "execution_count": 13,
   "id": "4bc11bd0",
   "metadata": {},
   "outputs": [
    {
     "name": "stdout",
     "output_type": "stream",
     "text": [
      "[[1420  577]\n",
      " [ 404 2482]]\n"
     ]
    }
   ],
   "source": [
    "tree_y_pred = tree_model.predict(X_test.values)\n",
    "\n",
    "cm = confusion_matrix(y_test, tree_y_pred)\n",
    "print(cm)"
   ]
  },
  {
   "cell_type": "code",
   "execution_count": 14,
   "id": "9e2621a3",
   "metadata": {},
   "outputs": [
    {
     "name": "stdout",
     "output_type": "stream",
     "text": [
      "Precision:  0.8113762667538411 Recall:  0.86001386001386 F1Score:  0.8349873843566021\n"
     ]
    }
   ],
   "source": [
    "TN = cm[0,0]\n",
    "FP = cm[0,1]\n",
    "FN = cm[1,0]\n",
    "TP = cm[1,1]\n",
    "Precision = TP/(TP+FP)\n",
    "Recall = TP/(TP+FN)\n",
    "F1Score = 2*((Precision*Recall)/(Precision+Recall))\n",
    "print('Precision: ',Precision, 'Recall: ',Recall, 'F1Score: ',F1Score)"
   ]
  },
  {
   "cell_type": "markdown",
   "id": "0493a0c1",
   "metadata": {},
   "source": [
    "## Analysis\n",
    "\n",
    "Logistic Regression Model - Precision: 0.849 Recall: 0.891 F1Score: 0.869\n",
    "\n",
    "Decision Tree Classifier  - Precision: 0.811 Recall: 0.860 F1Score: 0.835\n",
    "\n",
    "Comparing the Logistic Regression and Decision Tree Classifier models, it is apparent that the Logistic Regression model performs better. The Precision, Recall, and F1Score of the Logistic Regression model were better than those of the Decision Tree Classifier. The Logistic Regression model correctly classified each preseason game, while the Decision Tree got one incorrect. "
   ]
  }
 ],
 "metadata": {
  "kernelspec": {
   "display_name": "Python 3 (ipykernel)",
   "language": "python",
   "name": "python3"
  },
  "language_info": {
   "codemirror_mode": {
    "name": "ipython",
    "version": 3
   },
   "file_extension": ".py",
   "mimetype": "text/x-python",
   "name": "python",
   "nbconvert_exporter": "python",
   "pygments_lexer": "ipython3",
   "version": "3.9.12"
  }
 },
 "nbformat": 4,
 "nbformat_minor": 5
}
